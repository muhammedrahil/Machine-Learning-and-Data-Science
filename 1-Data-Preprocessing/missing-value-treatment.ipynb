{
 "cells": [
  {
   "cell_type": "code",
   "execution_count": 3,
   "metadata": {},
   "outputs": [],
   "source": [
    "# Delete the row from sheet\n",
    "# How we can use missing values?\n",
    "# in sheet we have 2 different types of Data\n",
    "    # Number and Text \n",
    "# Number  field - Numerical features\n",
    "# Text field - Catogical features"
   ]
  },
  {
   "cell_type": "code",
   "execution_count": 61,
   "metadata": {},
   "outputs": [],
   "source": [
    "import pandas as pd\n",
    "df  = pd.DataFrame({\"col1\":[\"a\",None,\"c\",\"d\",\"d\",\"c\",\"f\",\"3\",\"8\",None,\"10\"],\"col2\":[50,51,52,52,53,56,60,2000,10000,None,90]})"
   ]
  },
  {
   "cell_type": "code",
   "execution_count": 62,
   "metadata": {},
   "outputs": [
    {
     "data": {
      "text/html": [
       "<div>\n",
       "<style scoped>\n",
       "    .dataframe tbody tr th:only-of-type {\n",
       "        vertical-align: middle;\n",
       "    }\n",
       "\n",
       "    .dataframe tbody tr th {\n",
       "        vertical-align: top;\n",
       "    }\n",
       "\n",
       "    .dataframe thead th {\n",
       "        text-align: right;\n",
       "    }\n",
       "</style>\n",
       "<table border=\"1\" class=\"dataframe\">\n",
       "  <thead>\n",
       "    <tr style=\"text-align: right;\">\n",
       "      <th></th>\n",
       "      <th>col1</th>\n",
       "      <th>col2</th>\n",
       "    </tr>\n",
       "  </thead>\n",
       "  <tbody>\n",
       "    <tr>\n",
       "      <th>0</th>\n",
       "      <td>a</td>\n",
       "      <td>50.0</td>\n",
       "    </tr>\n",
       "    <tr>\n",
       "      <th>1</th>\n",
       "      <td>None</td>\n",
       "      <td>51.0</td>\n",
       "    </tr>\n",
       "    <tr>\n",
       "      <th>2</th>\n",
       "      <td>c</td>\n",
       "      <td>52.0</td>\n",
       "    </tr>\n",
       "    <tr>\n",
       "      <th>3</th>\n",
       "      <td>d</td>\n",
       "      <td>52.0</td>\n",
       "    </tr>\n",
       "    <tr>\n",
       "      <th>4</th>\n",
       "      <td>d</td>\n",
       "      <td>53.0</td>\n",
       "    </tr>\n",
       "    <tr>\n",
       "      <th>5</th>\n",
       "      <td>c</td>\n",
       "      <td>56.0</td>\n",
       "    </tr>\n",
       "    <tr>\n",
       "      <th>6</th>\n",
       "      <td>f</td>\n",
       "      <td>60.0</td>\n",
       "    </tr>\n",
       "    <tr>\n",
       "      <th>7</th>\n",
       "      <td>3</td>\n",
       "      <td>2000.0</td>\n",
       "    </tr>\n",
       "    <tr>\n",
       "      <th>8</th>\n",
       "      <td>8</td>\n",
       "      <td>10000.0</td>\n",
       "    </tr>\n",
       "    <tr>\n",
       "      <th>9</th>\n",
       "      <td>None</td>\n",
       "      <td>NaN</td>\n",
       "    </tr>\n",
       "    <tr>\n",
       "      <th>10</th>\n",
       "      <td>10</td>\n",
       "      <td>90.0</td>\n",
       "    </tr>\n",
       "  </tbody>\n",
       "</table>\n",
       "</div>"
      ],
      "text/plain": [
       "    col1     col2\n",
       "0      a     50.0\n",
       "1   None     51.0\n",
       "2      c     52.0\n",
       "3      d     52.0\n",
       "4      d     53.0\n",
       "5      c     56.0\n",
       "6      f     60.0\n",
       "7      3   2000.0\n",
       "8      8  10000.0\n",
       "9   None      NaN\n",
       "10    10     90.0"
      ]
     },
     "execution_count": 62,
     "metadata": {},
     "output_type": "execute_result"
    }
   ],
   "source": [
    "df"
   ]
  },
  {
   "cell_type": "code",
   "execution_count": 63,
   "metadata": {},
   "outputs": [
    {
     "data": {
      "text/plain": [
       "0       a\n",
       "1       d\n",
       "2       c\n",
       "3       d\n",
       "4       d\n",
       "5       c\n",
       "6       f\n",
       "7       3\n",
       "8       8\n",
       "9     NaN\n",
       "10     10\n",
       "Name: col1, dtype: object"
      ]
     },
     "execution_count": 63,
     "metadata": {},
     "output_type": "execute_result"
    }
   ],
   "source": [
    "# Catogical features\n",
    "\n",
    "mode = df['col1'].mode() # filled in with the mode value (repeat value)\n",
    "df['col1'].fillna(mode)"
   ]
  },
  {
   "cell_type": "code",
   "execution_count": 64,
   "metadata": {},
   "outputs": [
    {
     "data": {
      "text/plain": [
       "0        50.0\n",
       "1        51.0\n",
       "2        52.0\n",
       "3        52.0\n",
       "4        53.0\n",
       "5        56.0\n",
       "6        60.0\n",
       "7      2000.0\n",
       "8     10000.0\n",
       "9         NaN\n",
       "10       90.0\n",
       "Name: col2, dtype: float64"
      ]
     },
     "execution_count": 64,
     "metadata": {},
     "output_type": "execute_result"
    }
   ],
   "source": [
    "# Numerical features\n",
    "    # with outliers - handled using median (if coming is NaN values in with outliers column)\n",
    "    # with out outliers - handled using mean (if coming is NaN values in with out outliers column)\n",
    "\n",
    "# - With outliers: Handle NaN values using the median (because the median is not affected by outliers).\n",
    "# - Without outliers: Handle NaN values using the mean (since outliers are removed, the mean is now a reliable representation).\n",
    "\n",
    "df['col2']"
   ]
  },
  {
   "cell_type": "code",
   "execution_count": 65,
   "metadata": {},
   "outputs": [
    {
     "data": {
      "text/plain": [
       "<Axes: >"
      ]
     },
     "execution_count": 65,
     "metadata": {},
     "output_type": "execute_result"
    },
    {
     "data": {
      "image/png": "[encoded data removed]",
      "text/plain": [
       "<Figure size 640x480 with 1 Axes>"
      ]
     },
     "metadata": {},
     "output_type": "display_data"
    }
   ],
   "source": [
    "df['col2'].plot(kind='box')"
   ]
  },
  {
   "cell_type": "code",
   "execution_count": 66,
   "metadata": {},
   "outputs": [
    {
     "data": {
      "text/plain": [
       "np.float64(54.5)"
      ]
     },
     "execution_count": 66,
     "metadata": {},
     "output_type": "execute_result"
    }
   ],
   "source": [
    "median = df['col2'].median()\n",
    "median"
   ]
  },
  {
   "cell_type": "code",
   "execution_count": 74,
   "metadata": {},
   "outputs": [
    {
     "data": {
      "text/plain": [
       "0        50.0\n",
       "1        51.0\n",
       "2        52.0\n",
       "3        52.0\n",
       "4        53.0\n",
       "5        56.0\n",
       "6        60.0\n",
       "7      2000.0\n",
       "8     10000.0\n",
       "9        54.5\n",
       "10       90.0\n",
       "Name: col2, dtype: float64"
      ]
     },
     "execution_count": 74,
     "metadata": {},
     "output_type": "execute_result"
    }
   ],
   "source": [
    "df['col2'] = df['col2'].fillna(median)\n",
    "df['col2']"
   ]
  },
  {
   "cell_type": "code",
   "execution_count": 68,
   "metadata": {},
   "outputs": [],
   "source": [
    "# 2000 and 100000 is outliers\n",
    "\n",
    "# How we can handled outliers, reduce the values using\n",
    "    # squere root transformation\n",
    "    # cube root transformation\n",
    "    # log transformation"
   ]
  },
  {
   "cell_type": "code",
   "execution_count": 75,
   "metadata": {},
   "outputs": [
    {
     "data": {
      "text/plain": [
       "0       25.00\n",
       "1       25.50\n",
       "2       26.00\n",
       "3       26.00\n",
       "4       26.50\n",
       "5       28.00\n",
       "6       30.00\n",
       "7     1000.00\n",
       "8     5000.00\n",
       "9       27.25\n",
       "10      45.00\n",
       "Name: col2, dtype: float64"
      ]
     },
     "execution_count": 75,
     "metadata": {},
     "output_type": "execute_result"
    }
   ],
   "source": [
    "df['col2'].apply(lambda x: x*(1/2)) # squere root transformation"
   ]
  },
  {
   "cell_type": "code",
   "execution_count": 76,
   "metadata": {},
   "outputs": [
    {
     "data": {
      "text/plain": [
       "0       16.666667\n",
       "1       17.000000\n",
       "2       17.333333\n",
       "3       17.333333\n",
       "4       17.666667\n",
       "5       18.666667\n",
       "6       20.000000\n",
       "7      666.666667\n",
       "8     3333.333333\n",
       "9       18.166667\n",
       "10      30.000000\n",
       "Name: col2, dtype: float64"
      ]
     },
     "execution_count": 76,
     "metadata": {},
     "output_type": "execute_result"
    }
   ],
   "source": [
    "df['col2'].apply(lambda x: x*(1/3)) # cube root transformation"
   ]
  },
  {
   "cell_type": "code",
   "execution_count": 86,
   "metadata": {},
   "outputs": [
    {
     "data": {
      "text/plain": [
       "0     0.230186\n",
       "1     0.232379\n",
       "2     0.234518\n",
       "3     0.234518\n",
       "4     0.236607\n",
       "5     0.242588\n",
       "6     0.249969\n",
       "7     0.518649\n",
       "8     0.602060\n",
       "9     0.239649\n",
       "10    0.290978\n",
       "Name: col2, dtype: float64"
      ]
     },
     "execution_count": 86,
     "metadata": {},
     "output_type": "execute_result"
    }
   ],
   "source": [
    "import math\n",
    "df['col2'] = df['col2'].apply(lambda x: math.log10(x)) # log transformation\n",
    "df['col2']\n",
    "\n",
    "# Note - this is best method"
   ]
  },
  {
   "cell_type": "code",
   "execution_count": 87,
   "metadata": {},
   "outputs": [
    {
     "data": {
      "text/plain": [
       "<Axes: >"
      ]
     },
     "execution_count": 87,
     "metadata": {},
     "output_type": "execute_result"
    },
    {
     "data": {
      "image/png": "[encoded data removed]",
      "text/plain": [
       "<Figure size 640x480 with 1 Axes>"
      ]
     },
     "metadata": {},
     "output_type": "display_data"
    }
   ],
   "source": [
    "df['col2'].plot(kind='box')"
   ]
  }
 ],
 "metadata": {
  "kernelspec": {
   "display_name": "env",
   "language": "python",
   "name": "python3"
  },
  "language_info": {
   "codemirror_mode": {
    "name": "ipython",
    "version": 3
   },
   "file_extension": ".py",
   "mimetype": "text/x-python",
   "name": "python",
   "nbconvert_exporter": "python",
   "pygments_lexer": "ipython3",
   "version": "3.11.4"
  }
 },
 "nbformat": 4,
 "nbformat_minor": 2
}
